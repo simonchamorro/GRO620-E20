{
 "cells": [
  {
   "cell_type": "markdown",
   "metadata": {},
   "source": [
    "# GRO620 - Activité procédurale 1 - supplément\n",
    "\n",
    "Reprise et solution aux problèmes Q2.2 et Q5.2."
   ]
  },
  {
   "cell_type": "code",
   "execution_count": 1,
   "metadata": {},
   "outputs": [
    {
     "ename": "ModuleNotFoundError",
     "evalue": "No module named 'cv2'",
     "output_type": "error",
     "traceback": [
      "\u001b[0;31m---------------------------------------------------------------------------\u001b[0m",
      "\u001b[0;31mModuleNotFoundError\u001b[0m                       Traceback (most recent call last)",
      "\u001b[0;32m<ipython-input-1-83f742e4870b>\u001b[0m in \u001b[0;36m<module>\u001b[0;34m\u001b[0m\n\u001b[1;32m      2\u001b[0m \u001b[0;34m\u001b[0m\u001b[0m\n\u001b[1;32m      3\u001b[0m \u001b[0;32mimport\u001b[0m \u001b[0mnumpy\u001b[0m \u001b[0;32mas\u001b[0m \u001b[0mnp\u001b[0m\u001b[0;34m\u001b[0m\u001b[0;34m\u001b[0m\u001b[0m\n\u001b[0;32m----> 4\u001b[0;31m \u001b[0;32mimport\u001b[0m \u001b[0mcv2\u001b[0m\u001b[0;34m\u001b[0m\u001b[0;34m\u001b[0m\u001b[0m\n\u001b[0m\u001b[1;32m      5\u001b[0m \u001b[0;34m\u001b[0m\u001b[0m\n\u001b[1;32m      6\u001b[0m \u001b[0;32mimport\u001b[0m \u001b[0mmatplotlib\u001b[0m\u001b[0;34m.\u001b[0m\u001b[0mpyplot\u001b[0m \u001b[0;32mas\u001b[0m \u001b[0mplt\u001b[0m\u001b[0;34m\u001b[0m\u001b[0;34m\u001b[0m\u001b[0m\n",
      "\u001b[0;31mModuleNotFoundError\u001b[0m: No module named 'cv2'"
     ]
    }
   ],
   "source": [
    "# Préambule\n",
    "\n",
    "import numpy as np\n",
    "import cv2\n",
    "\n",
    "import matplotlib.pyplot as plt\n",
    "%matplotlib inline"
   ]
  },
  {
   "cell_type": "markdown",
   "metadata": {},
   "source": [
    "### Projection (Q2.2)\n",
    "\n",
    "Soit la configuration intrinsèque d'une caméra représentée par la matrice $K$ :\n",
    "\n",
    "$$\n",
    "K = \\begin{bmatrix} \n",
    " 620 &   0 & 1024 \\\\ \n",
    "   0 & 620 &  512 \\\\ \n",
    "   0 &   0 &    1 \n",
    "\\end{bmatrix}\n",
    "$$\n"
   ]
  },
  {
   "cell_type": "code",
   "execution_count": null,
   "metadata": {},
   "outputs": [],
   "source": [
    "K = np.array([[620.,   0., 1024.],\n",
    "              [  0., 620.,  512.],\n",
    "              [  0.,   0.,    1.]\n",
    "])\n",
    "\n"
   ]
  },
  {
   "cell_type": "markdown",
   "metadata": {},
   "source": [
    "Et les repères ($\\{1\\}$) correspondant à la caméra): \n",
    "\n",
    "![](images_doc/proc1-q2_1-frames.png)\n",
    "\n",
    "Trouvons les matrices $T_{10}$ (pour passer du repère $\\{1\\}$ à $\\{0\\}$) et $T_{01}$ (l'inverse) :"
   ]
  },
  {
   "cell_type": "code",
   "execution_count": null,
   "metadata": {},
   "outputs": [],
   "source": [
    "# On troouve la définition du repère {1} à partir du diagramme.\n",
    "# Ceci correspond à R|T et une dernière rangée (0,0,0,1) pour manipuler\n",
    "# des coordonnées homogènes.\n",
    "# Notez qu'on restera en mm pour la suite.\n",
    "\n",
    "T_10 = np.array([\n",
    "    [0, 1,  0,  240],\n",
    "    [1, 0,  0,   80],\n",
    "    [0, 0, -1,  120],\n",
    "    [0, 0,  0,    1]\n",
    "])\n",
    "print(\"T_10:\\n\", T_10)\n",
    "\n",
    "# Pour l'inverse, on peut transposer la rotation puis déterminer la\n",
    "# translation depuis le repère {1}, mais on peut tout aussi bien \n",
    "# utiliser NumPy pour cet APP: \n",
    "T_01 = np.linalg.inv(T_10)\n",
    "print(\"T_01:\\n\", T_01)"
   ]
  },
  {
   "cell_type": "markdown",
   "metadata": {},
   "source": [
    "Soit maintenant le point $p_0 = [0.250, 0.010, 0.000]$ (en m) :"
   ]
  },
  {
   "cell_type": "code",
   "execution_count": null,
   "metadata": {},
   "outputs": [],
   "source": [
    "p_0 = np.array([250, 10, 0]) # On convertit en mm"
   ]
  },
  {
   "cell_type": "markdown",
   "metadata": {},
   "source": [
    "On veut trouver ses coordonnées dans l'image. On peut utiliser l'équation (2.65) du livre. Pour cela, il faut d'abord bâtir Pt (P tilde), qui dépend également de K. Rappel des équations :\n",
    "\n",
    "$P  = K [R | T]$\n",
    "\n",
    "$\\tilde{P} = \\tilde{K} E$\n",
    "\n",
    "$x_s \\sim \\tilde{P} \\bar{p_w}$\n",
    "\n",
    "$x_s = (X_s, Y_s, 1, d) $\n",
    "\n",
    "$d = 1 / z$\n",
    "\n",
    "Dans notre cas, $E$ correspond à $T_{01}$, car on souhaite passer du repère global à celui de la caméra, $p_w$ est donc $p_0$ et $x_s$ continendra les coordonnées normalisées dans l'image.\n",
    "\n",
    "$d$ correspond à la disparité, ou $1/z$, où $z$ et la distance du point dans le repère de la caméra (donc en Z, où Z augmente avec la distance).\n",
    "\n",
    "Nous pouvons maintenant bâtir les matrices :"
   ]
  },
  {
   "cell_type": "code",
   "execution_count": null,
   "metadata": {
    "scrolled": false
   },
   "outputs": [],
   "source": [
    "Kt = np.zeros((4,4)) # On initialise une matrice vide 4x4 pour construire K tilde (eq. 2.64)\n",
    "Kt[0:3,0:3] = K      # Le premier carré 3x3 correspond à K\n",
    "Kt[3,3] = 1          # Qu'on complète à la dernière rangée\n",
    "print(\"Kt:\\n\", Kt)\n",
    "\n",
    "Pt = np.matmul(Kt, T_01) # Équation (2.64)\n",
    "print(\"Pt:\\n\", Pt)"
   ]
  },
  {
   "cell_type": "markdown",
   "metadata": {},
   "source": [
    "On peut maintenant trouver x_s :"
   ]
  },
  {
   "cell_type": "code",
   "execution_count": null,
   "metadata": {},
   "outputs": [],
   "source": [
    "p_w = np.array([250,10,0,1]) # On augmente p_0 pour obtenir des coordonnées homogènes\n",
    "\n",
    "x_s_p = np.matmul(Pt, p_w)    # x_s', avant normalisation\n",
    "print(x_s_p)"
   ]
  },
  {
   "cell_type": "markdown",
   "metadata": {},
   "source": [
    "On y est presque ! Il suffit d'obtenir les coordonnées normalisées en divisant Z. Nous avons directement Z dans les coordonnées ici, car elles ont été transposées dans le repère de la caméra :"
   ]
  },
  {
   "cell_type": "code",
   "execution_count": null,
   "metadata": {},
   "outputs": [],
   "source": [
    "x_s = x_s_p / x_s_p[2]\n",
    "print(\"x_s:\", x_s)"
   ]
  },
  {
   "cell_type": "markdown",
   "metadata": {},
   "source": [
    "Ou, si on arrondit, (662, 564), ce qui correspond à un point dans le quart en bas à gauche de l'image. En regardant les repères, on voit que c'est plausible : le point (0.250, 0.010, 0.000) (en m) dans le repère $\\{0\\}$ se retrouve un peu plus bas que le centre du repère de la caméra et sur la gauche (vers X-). Il faut cependant comprendre que les coordonnées en pixels commencent tout en haut à gauche de l'image. Un point parfaitement centré avec le repère de la caméra aura les coordonnées (1024, 512). "
   ]
  },
  {
   "cell_type": "markdown",
   "metadata": {},
   "source": [
    "### Reprojection (Q5.2)\n",
    "\n",
    "Il suffit maintenant de faire le chemin inverse.\n",
    "\n",
    "Premièrement, on peut obtenir l'inverse de la matrice de $\\tilde{P}$ :"
   ]
  },
  {
   "cell_type": "code",
   "execution_count": null,
   "metadata": {},
   "outputs": [],
   "source": [
    "Pt_inv = np.linalg.inv(Pt)\n",
    "print(\"Pt_inv:\\n:\", Pt_inv)"
   ]
  },
  {
   "cell_type": "markdown",
   "metadata": {},
   "source": [
    "(Attention: ici, on ne peut pas simplement transposer comme si c'était un repère)\n",
    "\n",
    "En inversant, on repasse d'un système en pixels à un en mm. Or, on ne peut pas tout de suite multiplier $\\tilde{P}^{-1}$ et un vecteur de coordonnées en pixels. On se rappelle que cette matrice ne manipule que les coordonnées normalisées. Il faut donc remultiplier par $z$, ou diviser par $d$ (ce qui correspond à diviser par $1/z$). On peut s'en convaincre avec le point précédent :"
   ]
  },
  {
   "cell_type": "code",
   "execution_count": null,
   "metadata": {},
   "outputs": [],
   "source": [
    "x_rp = x_s / x_s[3] # rp pour \"reprojection\"\n",
    "print(x_rp) # Devrait corresponde à x_s_p\n",
    "p_0_rp = np.matmul(Pt_inv, x_rp)\n",
    "print(p_0_rp)"
   ]
  },
  {
   "cell_type": "markdown",
   "metadata": {},
   "source": [
    "On retrouve bien le point original (en mm) en coordonnées homogènes.\n",
    "\n",
    "Maintenant, prenons le point $x_s = [120, 200]$, un point dans l'image perçu par la caméra décrite plus haut. Il faut d'abord trouver ses coordonnées homogènes **dans le repère de la caméra**. Dans l'énoncé, on suppose que le point perçu se trouve sur le plan XY du repère $\\{0\\}$. Le point a donc $z=0$ dans le repère $\\{0\\}$, mais $z=120$ dans le repère $\\{1\\}$. Or, c'est encore la version normalisée dont nous avons besoin. Il faut donc plutôt utiliser $d$:"
   ]
  },
  {
   "cell_type": "code",
   "execution_count": null,
   "metadata": {},
   "outputs": [],
   "source": [
    "d = 1.0 / 120  # 1 / z, et z est la distance entre la caméra et le convoyeur, donc 120 mm\n",
    "x52_s = np.array([120, 200, 1, d])\n",
    "x52_c = x52_s / d\n",
    "print(x52_c)\n",
    "# Et on multiplie :\n",
    "p52_0 = np.matmul(Pt_inv, x52_c)\n",
    "print(p52_0)"
   ]
  },
  {
   "cell_type": "markdown",
   "metadata": {},
   "source": [
    "On obtient donc un point franchement vers Y- (ce qui correspond à la gauche de l'image) et à mi-chemin entre les deux repères en X, ce qui a du sens compte tenu des coordonnées de l'image."
   ]
  },
  {
   "cell_type": "code",
   "execution_count": null,
   "metadata": {},
   "outputs": [],
   "source": []
  }
 ],
 "metadata": {
  "kernelspec": {
   "display_name": "Python 3 (cv)",
   "language": "python",
   "name": "cv"
  },
  "language_info": {
   "codemirror_mode": {
    "name": "ipython",
    "version": 3
   },
   "file_extension": ".py",
   "mimetype": "text/x-python",
   "name": "python",
   "nbconvert_exporter": "python",
   "pygments_lexer": "ipython3",
   "version": "3.8.3"
  }
 },
 "nbformat": 4,
 "nbformat_minor": 4
}
